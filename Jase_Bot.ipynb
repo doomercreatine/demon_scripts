{
  "nbformat": 4,
  "nbformat_minor": 0,
  "metadata": {
    "colab": {
      "name": "Jase Bot",
      "provenance": [],
      "collapsed_sections": []
    },
    "kernelspec": {
      "name": "python3",
      "display_name": "Python 3"
    },
    "language_info": {
      "name": "python"
    }
  },
  "cells": [
    {
      "cell_type": "markdown",
      "source": [
        "The jaseDemon word cloud maker."
      ],
      "metadata": {
        "id": "veYJ3xvpbem7"
      }
    },
    {
      "cell_type": "code",
      "execution_count": 96,
      "metadata": {
        "id": "YuIKJ-R6Fnil"
      },
      "outputs": [],
      "source": [
        "import tweepy"
      ]
    },
    {
      "cell_type": "code",
      "source": [
        "# Authenticate to Twitter\n",
        "#Add consumer token and secret\n",
        "auth = tweepy.OAuthHandler(\"\", \n",
        "    \"\")\n",
        "# Add access token and secret\n",
        "auth.set_access_token(\"\", \n",
        "    \"\")\n",
        "\n",
        "api = tweepy.API(auth)\n",
        "\n",
        "# Verify the auth workd\n",
        "try:\n",
        "    api.verify_credentials()\n",
        "    print(\"Authentication OK\")\n",
        "except:\n",
        "    print(\"Error during authentication\")"
      ],
      "metadata": {
        "colab": {
          "base_uri": "https://localhost:8080/"
        },
        "id": "cM33tf0FFvPW",
        "outputId": "4a8a9122-ac56-48c8-b021-99f890786354"
      },
      "execution_count": 97,
      "outputs": [
        {
          "output_type": "stream",
          "name": "stdout",
          "text": [
            "Error during authentication\n"
          ]
        }
      ]
    },
    {
      "cell_type": "markdown",
      "source": [
        "The twitter API limits to like 1500 requests every 15 minutes. I just grabbed most recent 1000 tweets for now."
      ],
      "metadata": {
        "id": "D6EngUZabk64"
      }
    },
    {
      "cell_type": "code",
      "source": [
        "tweets = api.user_timeline(screen_name=\"Hey_Jase\", count=1000, exclude_replies=True, include_rts=False)"
      ],
      "metadata": {
        "id": "lfBfdM08GplQ",
        "colab": {
          "base_uri": "https://localhost:8080/",
          "height": 317
        },
        "outputId": "aa4dd0d1-d7cb-48e2-acc5-129452c977bb"
      },
      "execution_count": 98,
      "outputs": [
        {
          "output_type": "error",
          "ename": "TweepError",
          "evalue": "ignored",
          "traceback": [
            "\u001b[0;31m---------------------------------------------------------------------------\u001b[0m",
            "\u001b[0;31mTweepError\u001b[0m                                Traceback (most recent call last)",
            "\u001b[0;32m<ipython-input-98-056a330907ae>\u001b[0m in \u001b[0;36m<module>\u001b[0;34m()\u001b[0m\n\u001b[0;32m----> 1\u001b[0;31m \u001b[0mtweets\u001b[0m \u001b[0;34m=\u001b[0m \u001b[0mapi\u001b[0m\u001b[0;34m.\u001b[0m\u001b[0muser_timeline\u001b[0m\u001b[0;34m(\u001b[0m\u001b[0mscreen_name\u001b[0m\u001b[0;34m=\u001b[0m\u001b[0;34m\"Hey_Jase\"\u001b[0m\u001b[0;34m,\u001b[0m \u001b[0mcount\u001b[0m\u001b[0;34m=\u001b[0m\u001b[0;36m1000\u001b[0m\u001b[0;34m,\u001b[0m \u001b[0mexclude_replies\u001b[0m\u001b[0;34m=\u001b[0m\u001b[0;32mTrue\u001b[0m\u001b[0;34m,\u001b[0m \u001b[0minclude_rts\u001b[0m\u001b[0;34m=\u001b[0m\u001b[0;32mFalse\u001b[0m\u001b[0;34m)\u001b[0m\u001b[0;34m\u001b[0m\u001b[0;34m\u001b[0m\u001b[0m\n\u001b[0m",
            "\u001b[0;32m/usr/local/lib/python3.7/dist-packages/tweepy/binder.py\u001b[0m in \u001b[0;36m_call\u001b[0;34m(*args, **kwargs)\u001b[0m\n\u001b[1;32m    251\u001b[0m                 \u001b[0;32mreturn\u001b[0m \u001b[0mmethod\u001b[0m\u001b[0;34m\u001b[0m\u001b[0;34m\u001b[0m\u001b[0m\n\u001b[1;32m    252\u001b[0m             \u001b[0;32melse\u001b[0m\u001b[0;34m:\u001b[0m\u001b[0;34m\u001b[0m\u001b[0;34m\u001b[0m\u001b[0m\n\u001b[0;32m--> 253\u001b[0;31m                 \u001b[0;32mreturn\u001b[0m \u001b[0mmethod\u001b[0m\u001b[0;34m.\u001b[0m\u001b[0mexecute\u001b[0m\u001b[0;34m(\u001b[0m\u001b[0;34m)\u001b[0m\u001b[0;34m\u001b[0m\u001b[0;34m\u001b[0m\u001b[0m\n\u001b[0m\u001b[1;32m    254\u001b[0m         \u001b[0;32mfinally\u001b[0m\u001b[0;34m:\u001b[0m\u001b[0;34m\u001b[0m\u001b[0;34m\u001b[0m\u001b[0m\n\u001b[1;32m    255\u001b[0m             \u001b[0mmethod\u001b[0m\u001b[0;34m.\u001b[0m\u001b[0msession\u001b[0m\u001b[0;34m.\u001b[0m\u001b[0mclose\u001b[0m\u001b[0;34m(\u001b[0m\u001b[0;34m)\u001b[0m\u001b[0;34m\u001b[0m\u001b[0;34m\u001b[0m\u001b[0m\n",
            "\u001b[0;32m/usr/local/lib/python3.7/dist-packages/tweepy/binder.py\u001b[0m in \u001b[0;36mexecute\u001b[0;34m(self)\u001b[0m\n\u001b[1;32m    232\u001b[0m                     \u001b[0;32mraise\u001b[0m \u001b[0mRateLimitError\u001b[0m\u001b[0;34m(\u001b[0m\u001b[0merror_msg\u001b[0m\u001b[0;34m,\u001b[0m \u001b[0mresp\u001b[0m\u001b[0;34m)\u001b[0m\u001b[0;34m\u001b[0m\u001b[0;34m\u001b[0m\u001b[0m\n\u001b[1;32m    233\u001b[0m                 \u001b[0;32melse\u001b[0m\u001b[0;34m:\u001b[0m\u001b[0;34m\u001b[0m\u001b[0;34m\u001b[0m\u001b[0m\n\u001b[0;32m--> 234\u001b[0;31m                     \u001b[0;32mraise\u001b[0m \u001b[0mTweepError\u001b[0m\u001b[0;34m(\u001b[0m\u001b[0merror_msg\u001b[0m\u001b[0;34m,\u001b[0m \u001b[0mresp\u001b[0m\u001b[0;34m,\u001b[0m \u001b[0mapi_code\u001b[0m\u001b[0;34m=\u001b[0m\u001b[0mapi_error_code\u001b[0m\u001b[0;34m)\u001b[0m\u001b[0;34m\u001b[0m\u001b[0;34m\u001b[0m\u001b[0m\n\u001b[0m\u001b[1;32m    235\u001b[0m \u001b[0;34m\u001b[0m\u001b[0m\n\u001b[1;32m    236\u001b[0m             \u001b[0;31m# Parse the response payload\u001b[0m\u001b[0;34m\u001b[0m\u001b[0;34m\u001b[0m\u001b[0;34m\u001b[0m\u001b[0m\n",
            "\u001b[0;31mTweepError\u001b[0m: [{'code': 215, 'message': 'Bad Authentication data.'}]"
          ]
        }
      ]
    },
    {
      "cell_type": "markdown",
      "source": [
        "Iterate through all tweets and check that they contain the link to his stream and they were sent on Thursday\n",
        "\n"
      ],
      "metadata": {
        "id": "N7Vc5cItbrYy"
      }
    },
    {
      "cell_type": "code",
      "source": [
        "thurs_tweets = []\n",
        "for tweet in tweets:\n",
        "  try:\n",
        "    expanded_url = tweet.entities[\"urls\"][0][\"expanded_url\"]\n",
        "    if \"Twitch.tv/Hey_Jase\" in expanded_url and calendar.day_name[tweet.created_at.weekday()] == \"Thursday\":\n",
        "      thurs_tweets.append(tweet.text)\n",
        "  except IndexError:\n",
        "    pass"
      ],
      "metadata": {
        "id": "V0O8WqW0LIT5"
      },
      "execution_count": null,
      "outputs": []
    },
    {
      "cell_type": "markdown",
      "source": [
        "I use regex to filter out the url and also strip erroneous new lines"
      ],
      "metadata": {
        "id": "-aw2jQLEb2Er"
      }
    },
    {
      "cell_type": "code",
      "source": [
        "import re\n",
        "thurs_tweets = [re.sub(r'^https?:\\/\\/.*[\\r\\n]*', '', thurs, flags=re.MULTILINE) for thurs in thurs_tweets]\n",
        "thurs_tweets = [tweet.strip() for tweet in thurs_tweets]\n"
      ],
      "metadata": {
        "id": "hurphOxTLSwr"
      },
      "execution_count": null,
      "outputs": []
    },
    {
      "cell_type": "code",
      "source": [
        "import numpy as np\n",
        "import pandas as pd\n",
        "from os import path\n",
        "from PIL import Image\n",
        "from wordcloud import WordCloud, STOPWORDS, ImageColorGenerator\n",
        "import matplotlib.pyplot as plt\n",
        "% matplotlib inline"
      ],
      "metadata": {
        "id": "f7dB70oJL5Bx"
      },
      "execution_count": null,
      "outputs": []
    },
    {
      "cell_type": "markdown",
      "source": [
        "Basic word cloud. I've expanded the stop_words to include some generic words that aren't wanted."
      ],
      "metadata": {
        "id": "0cQbr5M8b7z2"
      }
    },
    {
      "cell_type": "code",
      "source": [
        "# Start with one review:\n",
        "text = \" \".join(thurs_tweets)\n",
        "\n",
        "stop_words = [\"Live\", \"hunting\", \"hunt\", \"Chilling\", \"now\", \"Still\", \"last\", \"Time\", \"Stream\", \"want\", \"back\", \"today\", \"starting\", \"hitting\", \"recover\", \"Feeling\"] + list(STOPWORDS)\n",
        "# Create and generate a word cloud image:\n",
        "wordcloud = WordCloud(stopwords=stop_words).generate(text)\n",
        "\n",
        "# Display the generated image:\n",
        "plt.imshow(wordcloud, interpolation='bilinear')\n",
        "plt.axis(\"off\")\n",
        "plt.show()"
      ],
      "metadata": {
        "id": "n79VJkDuL6DI"
      },
      "execution_count": null,
      "outputs": []
    },
    {
      "cell_type": "markdown",
      "source": [
        "Generate a masked version of the word cloud. "
      ],
      "metadata": {
        "id": "wWhoIJ3rcBcW"
      }
    },
    {
      "cell_type": "code",
      "source": [
        "char_mask = np.array(Image.open(\"jaseDemon.png\")) \n",
        "\n",
        "wordcloud = WordCloud(stopwords=stop_words,\n",
        "                        background_color='black', \n",
        "                        #width=250,  \n",
        "                        #height=250, \n",
        "                        max_words=500,\n",
        "                        mask=char_mask,\n",
        "                        contour_width=3, \n",
        "                        contour_color='steelblue',\n",
        "                    ).generate(text)\n",
        "\n",
        "#image_colors = ImageColorGenerator(np.array(image))\n",
        "#wordcloud.recolor(color_func=image_colors)\n",
        "\n",
        "plt.figure(figsize=[15, 15])\n",
        "plt.imshow(wordcloud, interpolation='bilinear')\n",
        "plt.axis('off')\n",
        "plt.show()"
      ],
      "metadata": {
        "id": "KcNEw3tNS5x-"
      },
      "execution_count": null,
      "outputs": []
    }
  ]
}